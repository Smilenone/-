{
 "cells": [
  {
   "cell_type": "code",
   "execution_count": 2,
   "metadata": {},
   "outputs": [
    {
     "name": "stderr",
     "output_type": "stream",
     "text": [
      "Using TensorFlow backend.\n"
     ]
    }
   ],
   "source": [
    "import numpy as np \n",
    "import pandas as pd \n",
    "import os\n",
    "from keras import backend as K\n",
    "import seaborn as sns \n",
    "import matplotlib.pyplot as plt\n",
    "#%matplotlib inline\n",
    "from sklearn.svm import SVC\n",
    "from sklearn import metrics, naive_bayes\n",
    "from keras.models import Sequential\n",
    "from keras.layers import Dense,BatchNormalization\n",
    "from sklearn.model_selection import LeaveOneOut\n",
    "from keras.utils import np_utils\n",
    "from sklearn.manifold import TSNE\n",
    "from sklearn.preprocessing import LabelEncoder\n",
    "from sklearn.model_selection import StratifiedKFold, KFold\n",
    "from sklearn.metrics import mean_squared_error, roc_auc_score\n",
    "from sklearn.linear_model import LogisticRegression, LogisticRegressionCV\n",
    "import random\n",
    "import warnings\n",
    "import tensorflow as tf\n",
    "from sklearn.neighbors import KNeighborsClassifier\n",
    "import scipy as sp\n",
    "from math import sqrt\n",
    "from collections import Counter\n",
    "from sklearn.ensemble import RandomForestClassifier\n",
    "from sklearn.metrics import roc_auc_score\n",
    "from sklearn.model_selection import KFold,LeaveOneOut\n",
    "from sklearn.model_selection import train_test_split\n",
    "from sklearn.model_selection import cross_val_score\n",
    "from sklearn.model_selection import StratifiedKFold\n",
    "from sklearn.decomposition import PCA\n",
    "import keras\n",
    "warnings.filterwarnings(module='sklearn*', action='ignore', category=DeprecationWarning)\n",
    "warnings.filterwarnings(\"ignore\")"
   ]
  },
  {
   "cell_type": "markdown",
   "metadata": {},
   "source": [
    "## 导入数据"
   ]
  },
  {
   "cell_type": "code",
   "execution_count": 3,
   "metadata": {},
   "outputs": [
    {
     "data": {
      "text/html": [
       "<div>\n",
       "<style scoped>\n",
       "    .dataframe tbody tr th:only-of-type {\n",
       "        vertical-align: middle;\n",
       "    }\n",
       "\n",
       "    .dataframe tbody tr th {\n",
       "        vertical-align: top;\n",
       "    }\n",
       "\n",
       "    .dataframe thead th {\n",
       "        text-align: right;\n",
       "    }\n",
       "</style>\n",
       "<table border=\"1\" class=\"dataframe\">\n",
       "  <thead>\n",
       "    <tr style=\"text-align: right;\">\n",
       "      <th></th>\n",
       "      <th>name</th>\n",
       "      <th>progression</th>\n",
       "      <th>source</th>\n",
       "      <th>dose</th>\n",
       "      <th>label</th>\n",
       "    </tr>\n",
       "  </thead>\n",
       "  <tbody>\n",
       "    <tr>\n",
       "      <th>1</th>\n",
       "      <td>./data/gdc/cbb56e08-41dd-4c10-90ee-910e7b54ab5...</td>\n",
       "      <td>LUSC</td>\n",
       "      <td>TCGA</td>\n",
       "      <td>3</td>\n",
       "      <td>1</td>\n",
       "    </tr>\n",
       "    <tr>\n",
       "      <th>2</th>\n",
       "      <td>./data/gdc/d0d1b05c-8518-4ab4-90d5-159a671847c...</td>\n",
       "      <td>LUSC</td>\n",
       "      <td>TCGA</td>\n",
       "      <td>3</td>\n",
       "      <td>1</td>\n",
       "    </tr>\n",
       "    <tr>\n",
       "      <th>3</th>\n",
       "      <td>./data/gdc/98e3175d-db07-4967-bc2f-c80894abeca...</td>\n",
       "      <td>LUSC</td>\n",
       "      <td>TCGA</td>\n",
       "      <td>3</td>\n",
       "      <td>1</td>\n",
       "    </tr>\n",
       "    <tr>\n",
       "      <th>4</th>\n",
       "      <td>./data/gdc/574abc9e-aeb3-4e64-bc64-d21d619401f...</td>\n",
       "      <td>LUSC</td>\n",
       "      <td>TCGA</td>\n",
       "      <td>3</td>\n",
       "      <td>1</td>\n",
       "    </tr>\n",
       "    <tr>\n",
       "      <th>5</th>\n",
       "      <td>./data/gdc/0e18c31d-a77d-41d6-933c-fc3df610a81...</td>\n",
       "      <td>LUSC</td>\n",
       "      <td>TCGA</td>\n",
       "      <td>3</td>\n",
       "      <td>1</td>\n",
       "    </tr>\n",
       "  </tbody>\n",
       "</table>\n",
       "</div>"
      ],
      "text/plain": [
       "                                                name progression source  dose  \\\n",
       "1  ./data/gdc/cbb56e08-41dd-4c10-90ee-910e7b54ab5...        LUSC   TCGA     3   \n",
       "2  ./data/gdc/d0d1b05c-8518-4ab4-90d5-159a671847c...        LUSC   TCGA     3   \n",
       "3  ./data/gdc/98e3175d-db07-4967-bc2f-c80894abeca...        LUSC   TCGA     3   \n",
       "4  ./data/gdc/574abc9e-aeb3-4e64-bc64-d21d619401f...        LUSC   TCGA     3   \n",
       "5  ./data/gdc/0e18c31d-a77d-41d6-933c-fc3df610a81...        LUSC   TCGA     3   \n",
       "\n",
       "   label  \n",
       "1      1  \n",
       "2      1  \n",
       "3      1  \n",
       "4      1  \n",
       "5      1  "
      ]
     },
     "execution_count": 3,
     "metadata": {},
     "output_type": "execute_result"
    }
   ],
   "source": [
    "pheno = pd.read_csv('tcga.gpheno.csv',index_col=[0])\n",
    "pheno.head()"
   ]
  },
  {
   "cell_type": "code",
   "execution_count": 4,
   "metadata": {
    "scrolled": true
   },
   "outputs": [
    {
     "data": {
      "text/html": [
       "<div>\n",
       "<style scoped>\n",
       "    .dataframe tbody tr th:only-of-type {\n",
       "        vertical-align: middle;\n",
       "    }\n",
       "\n",
       "    .dataframe tbody tr th {\n",
       "        vertical-align: top;\n",
       "    }\n",
       "\n",
       "    .dataframe thead th {\n",
       "        text-align: right;\n",
       "    }\n",
       "</style>\n",
       "<table border=\"1\" class=\"dataframe\">\n",
       "  <thead>\n",
       "    <tr style=\"text-align: right;\">\n",
       "      <th></th>\n",
       "      <th>UBE2C</th>\n",
       "      <th>CENPA</th>\n",
       "      <th>TPX2</th>\n",
       "      <th>CDC20</th>\n",
       "      <th>KIF4A</th>\n",
       "      <th>HJURP</th>\n",
       "      <th>KIF2C</th>\n",
       "      <th>PLK1</th>\n",
       "      <th>MYBL2</th>\n",
       "      <th>BIRC5</th>\n",
       "      <th>...</th>\n",
       "      <th>TK1</th>\n",
       "      <th>SPC25</th>\n",
       "      <th>SPC24</th>\n",
       "      <th>E2F7</th>\n",
       "      <th>CDKN3</th>\n",
       "      <th>RGCC</th>\n",
       "      <th>IQGAP3</th>\n",
       "      <th>CDC25A</th>\n",
       "      <th>NOSTRIN</th>\n",
       "      <th>XRCC2</th>\n",
       "    </tr>\n",
       "  </thead>\n",
       "  <tbody>\n",
       "    <tr>\n",
       "      <th>..data.gdc.cbb56e08.41dd.4c10.90ee.910e7b54ab51.5a7f277a.28b9.403b.959b.51e4b024084b.htseq.counts</th>\n",
       "      <td>6.979994</td>\n",
       "      <td>4.248401</td>\n",
       "      <td>7.622977</td>\n",
       "      <td>6.634700</td>\n",
       "      <td>5.530808</td>\n",
       "      <td>5.359669</td>\n",
       "      <td>6.219619</td>\n",
       "      <td>6.259319</td>\n",
       "      <td>7.962267</td>\n",
       "      <td>7.897401</td>\n",
       "      <td>...</td>\n",
       "      <td>6.913494</td>\n",
       "      <td>4.467030</td>\n",
       "      <td>5.080876</td>\n",
       "      <td>4.876114</td>\n",
       "      <td>3.629659</td>\n",
       "      <td>5.000663</td>\n",
       "      <td>5.832014</td>\n",
       "      <td>3.839421</td>\n",
       "      <td>1.720955</td>\n",
       "      <td>4.353725</td>\n",
       "    </tr>\n",
       "    <tr>\n",
       "      <th>..data.gdc.d0d1b05c.8518.4ab4.90d5.159a671847c5.94b65d9b.b3d9.45b2.80ac.cb4664fe8428.htseq.counts</th>\n",
       "      <td>6.543213</td>\n",
       "      <td>4.264844</td>\n",
       "      <td>6.996129</td>\n",
       "      <td>6.699813</td>\n",
       "      <td>5.354023</td>\n",
       "      <td>4.419221</td>\n",
       "      <td>5.323058</td>\n",
       "      <td>6.355777</td>\n",
       "      <td>7.575526</td>\n",
       "      <td>6.777294</td>\n",
       "      <td>...</td>\n",
       "      <td>7.647332</td>\n",
       "      <td>3.793738</td>\n",
       "      <td>4.604451</td>\n",
       "      <td>3.609271</td>\n",
       "      <td>4.695916</td>\n",
       "      <td>3.561431</td>\n",
       "      <td>5.142703</td>\n",
       "      <td>4.315540</td>\n",
       "      <td>0.758491</td>\n",
       "      <td>4.148970</td>\n",
       "    </tr>\n",
       "    <tr>\n",
       "      <th>..data.gdc.98e3175d.db07.4967.bc2f.c80894abecab.9ef0c6dd.6e38.41fd.aff6.ae0800c7755d.htseq.counts</th>\n",
       "      <td>5.252205</td>\n",
       "      <td>3.932000</td>\n",
       "      <td>7.272806</td>\n",
       "      <td>5.994358</td>\n",
       "      <td>5.441765</td>\n",
       "      <td>4.188509</td>\n",
       "      <td>4.974727</td>\n",
       "      <td>5.431029</td>\n",
       "      <td>6.056109</td>\n",
       "      <td>6.366968</td>\n",
       "      <td>...</td>\n",
       "      <td>6.645368</td>\n",
       "      <td>2.857964</td>\n",
       "      <td>4.150319</td>\n",
       "      <td>4.412879</td>\n",
       "      <td>4.583595</td>\n",
       "      <td>4.944197</td>\n",
       "      <td>4.713299</td>\n",
       "      <td>3.437807</td>\n",
       "      <td>1.475544</td>\n",
       "      <td>3.903920</td>\n",
       "    </tr>\n",
       "    <tr>\n",
       "      <th>..data.gdc.574abc9e.aeb3.4e64.bc64.d21d619401fe.00068002.f4f0.4610.bfe6.67169c760d21.htseq.counts</th>\n",
       "      <td>6.960750</td>\n",
       "      <td>4.796605</td>\n",
       "      <td>8.040177</td>\n",
       "      <td>6.511094</td>\n",
       "      <td>6.015650</td>\n",
       "      <td>5.600718</td>\n",
       "      <td>5.289741</td>\n",
       "      <td>7.105901</td>\n",
       "      <td>7.314592</td>\n",
       "      <td>7.112965</td>\n",
       "      <td>...</td>\n",
       "      <td>7.589261</td>\n",
       "      <td>3.939218</td>\n",
       "      <td>4.447551</td>\n",
       "      <td>5.273020</td>\n",
       "      <td>5.222750</td>\n",
       "      <td>2.272494</td>\n",
       "      <td>5.056833</td>\n",
       "      <td>4.175735</td>\n",
       "      <td>0.720794</td>\n",
       "      <td>4.669810</td>\n",
       "    </tr>\n",
       "    <tr>\n",
       "      <th>..data.gdc.0e18c31d.a77d.41d6.933c.fc3df610a818.01444ada.b1f7.4f08.addd.85f02d177ffd.htseq.counts</th>\n",
       "      <td>5.556585</td>\n",
       "      <td>4.150574</td>\n",
       "      <td>7.684603</td>\n",
       "      <td>7.364100</td>\n",
       "      <td>5.702959</td>\n",
       "      <td>5.370147</td>\n",
       "      <td>6.353751</td>\n",
       "      <td>6.693683</td>\n",
       "      <td>6.372051</td>\n",
       "      <td>7.353430</td>\n",
       "      <td>...</td>\n",
       "      <td>7.571670</td>\n",
       "      <td>4.128715</td>\n",
       "      <td>4.778606</td>\n",
       "      <td>5.223169</td>\n",
       "      <td>4.808913</td>\n",
       "      <td>3.836759</td>\n",
       "      <td>6.100661</td>\n",
       "      <td>4.723986</td>\n",
       "      <td>1.243191</td>\n",
       "      <td>4.503911</td>\n",
       "    </tr>\n",
       "  </tbody>\n",
       "</table>\n",
       "<p>5 rows × 100 columns</p>\n",
       "</div>"
      ],
      "text/plain": [
       "                                                       UBE2C     CENPA  \\\n",
       "..data.gdc.cbb56e08.41dd.4c10.90ee.910e7b54ab51...  6.979994  4.248401   \n",
       "..data.gdc.d0d1b05c.8518.4ab4.90d5.159a671847c5...  6.543213  4.264844   \n",
       "..data.gdc.98e3175d.db07.4967.bc2f.c80894abecab...  5.252205  3.932000   \n",
       "..data.gdc.574abc9e.aeb3.4e64.bc64.d21d619401fe...  6.960750  4.796605   \n",
       "..data.gdc.0e18c31d.a77d.41d6.933c.fc3df610a818...  5.556585  4.150574   \n",
       "\n",
       "                                                        TPX2     CDC20  \\\n",
       "..data.gdc.cbb56e08.41dd.4c10.90ee.910e7b54ab51...  7.622977  6.634700   \n",
       "..data.gdc.d0d1b05c.8518.4ab4.90d5.159a671847c5...  6.996129  6.699813   \n",
       "..data.gdc.98e3175d.db07.4967.bc2f.c80894abecab...  7.272806  5.994358   \n",
       "..data.gdc.574abc9e.aeb3.4e64.bc64.d21d619401fe...  8.040177  6.511094   \n",
       "..data.gdc.0e18c31d.a77d.41d6.933c.fc3df610a818...  7.684603  7.364100   \n",
       "\n",
       "                                                       KIF4A     HJURP  \\\n",
       "..data.gdc.cbb56e08.41dd.4c10.90ee.910e7b54ab51...  5.530808  5.359669   \n",
       "..data.gdc.d0d1b05c.8518.4ab4.90d5.159a671847c5...  5.354023  4.419221   \n",
       "..data.gdc.98e3175d.db07.4967.bc2f.c80894abecab...  5.441765  4.188509   \n",
       "..data.gdc.574abc9e.aeb3.4e64.bc64.d21d619401fe...  6.015650  5.600718   \n",
       "..data.gdc.0e18c31d.a77d.41d6.933c.fc3df610a818...  5.702959  5.370147   \n",
       "\n",
       "                                                       KIF2C      PLK1  \\\n",
       "..data.gdc.cbb56e08.41dd.4c10.90ee.910e7b54ab51...  6.219619  6.259319   \n",
       "..data.gdc.d0d1b05c.8518.4ab4.90d5.159a671847c5...  5.323058  6.355777   \n",
       "..data.gdc.98e3175d.db07.4967.bc2f.c80894abecab...  4.974727  5.431029   \n",
       "..data.gdc.574abc9e.aeb3.4e64.bc64.d21d619401fe...  5.289741  7.105901   \n",
       "..data.gdc.0e18c31d.a77d.41d6.933c.fc3df610a818...  6.353751  6.693683   \n",
       "\n",
       "                                                       MYBL2     BIRC5  ...  \\\n",
       "..data.gdc.cbb56e08.41dd.4c10.90ee.910e7b54ab51...  7.962267  7.897401  ...   \n",
       "..data.gdc.d0d1b05c.8518.4ab4.90d5.159a671847c5...  7.575526  6.777294  ...   \n",
       "..data.gdc.98e3175d.db07.4967.bc2f.c80894abecab...  6.056109  6.366968  ...   \n",
       "..data.gdc.574abc9e.aeb3.4e64.bc64.d21d619401fe...  7.314592  7.112965  ...   \n",
       "..data.gdc.0e18c31d.a77d.41d6.933c.fc3df610a818...  6.372051  7.353430  ...   \n",
       "\n",
       "                                                         TK1     SPC25  \\\n",
       "..data.gdc.cbb56e08.41dd.4c10.90ee.910e7b54ab51...  6.913494  4.467030   \n",
       "..data.gdc.d0d1b05c.8518.4ab4.90d5.159a671847c5...  7.647332  3.793738   \n",
       "..data.gdc.98e3175d.db07.4967.bc2f.c80894abecab...  6.645368  2.857964   \n",
       "..data.gdc.574abc9e.aeb3.4e64.bc64.d21d619401fe...  7.589261  3.939218   \n",
       "..data.gdc.0e18c31d.a77d.41d6.933c.fc3df610a818...  7.571670  4.128715   \n",
       "\n",
       "                                                       SPC24      E2F7  \\\n",
       "..data.gdc.cbb56e08.41dd.4c10.90ee.910e7b54ab51...  5.080876  4.876114   \n",
       "..data.gdc.d0d1b05c.8518.4ab4.90d5.159a671847c5...  4.604451  3.609271   \n",
       "..data.gdc.98e3175d.db07.4967.bc2f.c80894abecab...  4.150319  4.412879   \n",
       "..data.gdc.574abc9e.aeb3.4e64.bc64.d21d619401fe...  4.447551  5.273020   \n",
       "..data.gdc.0e18c31d.a77d.41d6.933c.fc3df610a818...  4.778606  5.223169   \n",
       "\n",
       "                                                       CDKN3      RGCC  \\\n",
       "..data.gdc.cbb56e08.41dd.4c10.90ee.910e7b54ab51...  3.629659  5.000663   \n",
       "..data.gdc.d0d1b05c.8518.4ab4.90d5.159a671847c5...  4.695916  3.561431   \n",
       "..data.gdc.98e3175d.db07.4967.bc2f.c80894abecab...  4.583595  4.944197   \n",
       "..data.gdc.574abc9e.aeb3.4e64.bc64.d21d619401fe...  5.222750  2.272494   \n",
       "..data.gdc.0e18c31d.a77d.41d6.933c.fc3df610a818...  4.808913  3.836759   \n",
       "\n",
       "                                                      IQGAP3    CDC25A  \\\n",
       "..data.gdc.cbb56e08.41dd.4c10.90ee.910e7b54ab51...  5.832014  3.839421   \n",
       "..data.gdc.d0d1b05c.8518.4ab4.90d5.159a671847c5...  5.142703  4.315540   \n",
       "..data.gdc.98e3175d.db07.4967.bc2f.c80894abecab...  4.713299  3.437807   \n",
       "..data.gdc.574abc9e.aeb3.4e64.bc64.d21d619401fe...  5.056833  4.175735   \n",
       "..data.gdc.0e18c31d.a77d.41d6.933c.fc3df610a818...  6.100661  4.723986   \n",
       "\n",
       "                                                     NOSTRIN     XRCC2  \n",
       "..data.gdc.cbb56e08.41dd.4c10.90ee.910e7b54ab51...  1.720955  4.353725  \n",
       "..data.gdc.d0d1b05c.8518.4ab4.90d5.159a671847c5...  0.758491  4.148970  \n",
       "..data.gdc.98e3175d.db07.4967.bc2f.c80894abecab...  1.475544  3.903920  \n",
       "..data.gdc.574abc9e.aeb3.4e64.bc64.d21d619401fe...  0.720794  4.669810  \n",
       "..data.gdc.0e18c31d.a77d.41d6.933c.fc3df610a818...  1.243191  4.503911  \n",
       "\n",
       "[5 rows x 100 columns]"
      ]
     },
     "execution_count": 4,
     "metadata": {},
     "output_type": "execute_result"
    }
   ],
   "source": [
    "data = pd.read_csv('exprSet_TCGA100.csv',index_col=[0])\n",
    "data = data.T\n",
    "data.head()"
   ]
  },
  {
   "cell_type": "markdown",
   "metadata": {},
   "source": [
    "## 模型建立"
   ]
  },
  {
   "cell_type": "code",
   "execution_count": 5,
   "metadata": {},
   "outputs": [],
   "source": [
    "X = data\n",
    "y = pheno['label']"
   ]
  },
  {
   "cell_type": "code",
   "execution_count": 6,
   "metadata": {},
   "outputs": [
    {
     "data": {
      "text/plain": [
       "PCA(copy=True, iterated_power='auto', n_components=3, random_state=None,\n",
       "  svd_solver='auto', tol=0.0, whiten=False)"
      ]
     },
     "execution_count": 6,
     "metadata": {},
     "output_type": "execute_result"
    }
   ],
   "source": [
    "pca = PCA(n_components=3)\n",
    "pca.fit(X)"
   ]
  },
  {
   "cell_type": "code",
   "execution_count": 7,
   "metadata": {},
   "outputs": [
    {
     "data": {
      "image/png": "[encoded data removed]",
      "text/plain": [
       "<Figure size 432x288 with 1 Axes>"
      ]
     },
     "metadata": {
      "needs_background": "light"
     },
     "output_type": "display_data"
    }
   ],
   "source": [
    "X_new = pca.transform(X)\n",
    "plt.scatter(X_new[:, 0], X_new[:, 1],marker='o',c=y)\n",
    "plt.show()"
   ]
  },
  {
   "cell_type": "markdown",
   "metadata": {},
   "source": [
    "### Navie Bayes"
   ]
  },
  {
   "cell_type": "code",
   "execution_count": 71,
   "metadata": {},
   "outputs": [
    {
     "name": "stdout",
     "output_type": "stream",
     "text": [
      "The accuracy on trainging set is: 0.987295935108861 The accuracy on test set is: 0.98730278980279\n",
      "The Sensitivity is: 0.9881176470588237 The Specificity is 0.975\n",
      "auc is: 0.9815588235294118\n"
     ]
    }
   ],
   "source": [
    "skf = StratifiedKFold(n_splits=10,random_state=5,shuffle=True)\n",
    "clf = naive_bayes.GaussianNB()\n",
    "score1 = []\n",
    "score2 = []\n",
    "Sensitivity = []\n",
    "Specificity = []\n",
    "auc = []\n",
    "A = []\n",
    "for train, test in skf.split(X,y):\n",
    "    X_train,X_test=X.iloc[train],X.iloc[test]\n",
    "    y_train,y_test=y.iloc[train],y.iloc[test]\n",
    "    clf.fit(X_train, y_train)\n",
    "    \n",
    "    y_pred1 = clf.predict(X_train)\n",
    "    accuracy1 = np.mean(y_train==y_pred1)\n",
    "    score1.append(accuracy1)\n",
    "    \n",
    "    y_pred2 = clf.predict(X_test)\n",
    "    accuracy2 = np.mean(y_test==y_pred2)\n",
    "    score2.append(accuracy2)\n",
    "    confusion = metrics.confusion_matrix(y_test, y_pred2)\n",
    "    auc_ = metrics.roc_auc_score(y_test, y_pred2)\n",
    "    TP = confusion[1, 1]\n",
    "    TN = confusion[0, 0]\n",
    "    FP = confusion[0, 1]\n",
    "    FN = confusion[1, 0]\n",
    "    TPR = TP/(TP+FN)\n",
    "    TNR = TN/(TN+FP)\n",
    "    Sensitivity.append(TPR)\n",
    "    Specificity.append(TNR)\n",
    "    auc.append(auc_)\n",
    "score1 = np.array(score1)\n",
    "score2 = np.array(score2)\n",
    "Sensitivity = np.array(Sensitivity)\n",
    "Specificity = np.array(Specificity)\n",
    "auc = np.array(auc)\n",
    "print('The accuracy on trainging set is:',np.mean(score1),'The accuracy on test set is:', np.mean(score2))\n",
    "print('The Sensitivity is:', np.mean(Sensitivity), 'The Specificity is', np.mean(Specificity))\n",
    "print('auc is:', np.mean(auc))"
   ]
  },
  {
   "cell_type": "markdown",
   "metadata": {},
   "source": [
    "### logistic regression"
   ]
  },
  {
   "cell_type": "code",
   "execution_count": 27,
   "metadata": {},
   "outputs": [
    {
     "name": "stdout",
     "output_type": "stream",
     "text": [
      "The accuracy on trainging set is: 1.0 The accuracy on test set is: 0.9945117845117846\n",
      "The Sensitivity is: 0.9960000000000001 The Specificity is 0.975\n",
      "auc is: 0.9855\n"
     ]
    }
   ],
   "source": [
    "skf = StratifiedKFold(n_splits=10,random_state=5,shuffle=True)\n",
    "clf = LogisticRegression(solver='lbfgs')\n",
    "score1 = []\n",
    "score2 = []\n",
    "Sensitivity = []\n",
    "Specificity = []\n",
    "auc = []\n",
    "A = []\n",
    "for train, test in skf.split(X,y):\n",
    "    X_train,X_test=X.iloc[train],X.iloc[test]\n",
    "    y_train,y_test=y.iloc[train],y.iloc[test]\n",
    "    clf.fit(X_train, y_train)\n",
    "    \n",
    "    y_pred1 = clf.predict(X_train)\n",
    "    accuracy1 = np.mean(y_train==y_pred1)\n",
    "    score1.append(accuracy1)\n",
    "    \n",
    "    y_pred2 = clf.predict(X_test)\n",
    "    accuracy2 = np.mean(y_test==y_pred2)\n",
    "    score2.append(accuracy2)\n",
    "    confusion = metrics.confusion_matrix(y_test, y_pred2)\n",
    "    auc_ = metrics.roc_auc_score(y_test, y_pred2)\n",
    "    TP = confusion[1, 1]\n",
    "    TN = confusion[0, 0]\n",
    "    FP = confusion[0, 1]\n",
    "    FN = confusion[1, 0]\n",
    "    TPR = TP/(TP+FN)\n",
    "    TNR = TN/(TN+FP)\n",
    "    Sensitivity.append(TPR)\n",
    "    Specificity.append(TNR)\n",
    "    auc.append(auc_)\n",
    "score1 = np.array(score1)\n",
    "score2 = np.array(score2)\n",
    "Sensitivity = np.array(Sensitivity)\n",
    "Specificity = np.array(Specificity)\n",
    "auc = np.array(auc)\n",
    "print('The accuracy on trainging set is:',np.mean(score1),'The accuracy on test set is:', np.mean(score2))\n",
    "print('The Sensitivity is:', np.mean(Sensitivity), 'The Specificity is', np.mean(Specificity))\n",
    "print('auc is:', np.mean(auc))"
   ]
  },
  {
   "cell_type": "markdown",
   "metadata": {},
   "source": [
    "### ANN"
   ]
  },
  {
   "cell_type": "code",
   "execution_count": 15,
   "metadata": {},
   "outputs": [],
   "source": [
    "class LossHistory(keras.callbacks.Callback):\n",
    "    def on_train_begin(self, logs={}):\n",
    "        self.losses = {'batch':[], 'epoch':[]}\n",
    "        self.accuracy = {'batch':[], 'epoch':[]}\n",
    "        self.val_loss = {'batch':[], 'epoch':[]}\n",
    "        self.val_acc = {'batch':[], 'epoch':[]}\n",
    "\n",
    "    def on_batch_end(self, batch, logs={}):\n",
    "        self.losses['batch'].append(logs.get('loss'))\n",
    "        self.accuracy['batch'].append(logs.get('acc'))\n",
    "        self.val_loss['batch'].append(logs.get('val_loss'))\n",
    "        self.val_acc['batch'].append(logs.get('val_acc'))\n",
    "\n",
    "    def on_epoch_end(self, batch, logs={}):\n",
    "        self.losses['epoch'].append(logs.get('loss'))\n",
    "        self.accuracy['epoch'].append(logs.get('acc'))\n",
    "        self.val_loss['epoch'].append(logs.get('val_loss'))\n",
    "        self.val_acc['epoch'].append(logs.get('val_acc'))\n",
    "\n",
    "    def loss_plot(self, loss_type):\n",
    "        iters = range(len(self.losses[loss_type]))\n",
    "        plt.figure()\n",
    "        # acc\n",
    "        plt.plot(iters, self.accuracy[loss_type], 'r', label='train acc')\n",
    "        # loss\n",
    "        plt.plot(iters, self.losses[loss_type], 'g', label='train loss')\n",
    "        if loss_type == 'epoch':\n",
    "            # val_acc\n",
    "            plt.plot(iters, self.val_acc[loss_type], 'b', label='val acc')\n",
    "            # val_loss\n",
    "            plt.plot(iters, self.val_loss[loss_type], 'k', label='val loss')\n",
    "        plt.grid(True)\n",
    "        plt.xlabel(loss_type)\n",
    "        plt.ylabel('acc-loss')\n",
    "        plt.legend(loc=\"upper right\")\n",
    "        plt.show()"
   ]
  },
  {
   "cell_type": "code",
   "execution_count": 16,
   "metadata": {},
   "outputs": [],
   "source": [
    "X_train,X_test, y_train, y_test = train_test_split(X, y,test_size=0.3, random_state=0)"
   ]
  },
  {
   "cell_type": "code",
   "execution_count": 17,
   "metadata": {},
   "outputs": [],
   "source": [
    "encoder = LabelEncoder()\n",
    "encoder.fit(y_train)\n",
    "y_train = encoder.transform(y_train)\n",
    "y_train = np_utils.to_categorical(y_train,num_classes=2)\n",
    "\n",
    "encoder = LabelEncoder()\n",
    "encoder.fit(y_test)\n",
    "y_test = encoder.transform(y_test)\n",
    "y_test = np_utils.to_categorical(y_test,num_classes=2)"
   ]
  },
  {
   "cell_type": "code",
   "execution_count": 18,
   "metadata": {},
   "outputs": [
    {
     "name": "stdout",
     "output_type": "stream",
     "text": [
      "WARNING:tensorflow:From E:\\Tools\\anaconda\\lib\\site-packages\\tensorflow\\python\\framework\\op_def_library.py:263: colocate_with (from tensorflow.python.framework.ops) is deprecated and will be removed in a future version.\n",
      "Instructions for updating:\n",
      "Colocations handled automatically by placer.\n"
     ]
    }
   ],
   "source": [
    "model = Sequential()\n",
    "model.add(Dense(128,activation='relu',init = keras.initializers.he_normal(seed=1),input_dim=100))\n",
    "#model.add(Dense(256,init = keras.initializers.he_normal(seed=1),activation='relu'))\n",
    "#model.add(BatchNormalization())\n",
    "model.add(Dense(32,init = keras.initializers.he_normal(seed=1),activation='relu'))\n",
    "#model.add(Dense(64,init = keras.initializers.he_normal(seed=1),activation='relu'))\n",
    "model.add(Dense(8,init = keras.initializers.he_normal(seed=1),activation='relu'))\n",
    "model.add(Dense(2,activation='softmax'))\n",
    "model.compile(optimizer='Adam',loss='categorical_crossentropy',metrics=['accuracy'])\n",
    "history = LossHistory()"
   ]
  },
  {
   "cell_type": "code",
   "execution_count": 19,
   "metadata": {},
   "outputs": [
    {
     "name": "stdout",
     "output_type": "stream",
     "text": [
      "WARNING:tensorflow:From E:\\Tools\\anaconda\\lib\\site-packages\\tensorflow\\python\\ops\\math_ops.py:3066: to_int32 (from tensorflow.python.ops.math_ops) is deprecated and will be removed in a future version.\n",
      "Instructions for updating:\n",
      "Use tf.cast instead.\n",
      "Train on 385 samples, validate on 166 samples\n",
      "Epoch 1/50\n",
      " - 0s - loss: 0.1254 - acc: 0.9532 - val_loss: 0.0390 - val_acc: 0.9940\n",
      "Epoch 2/50\n",
      " - 0s - loss: 0.0436 - acc: 0.9818 - val_loss: 0.0174 - val_acc: 0.9880\n",
      "Epoch 3/50\n",
      " - 0s - loss: 0.0406 - acc: 0.9870 - val_loss: 0.0511 - val_acc: 0.9759\n",
      "Epoch 4/50\n",
      " - 0s - loss: 0.0262 - acc: 0.9896 - val_loss: 0.0150 - val_acc: 0.9940\n",
      "Epoch 5/50\n",
      " - 0s - loss: 0.0240 - acc: 0.9896 - val_loss: 0.0135 - val_acc: 1.0000\n",
      "Epoch 6/50\n",
      " - 0s - loss: 0.0186 - acc: 0.9948 - val_loss: 0.0121 - val_acc: 0.9940\n",
      "Epoch 7/50\n",
      " - 0s - loss: 0.0181 - acc: 0.9896 - val_loss: 0.0151 - val_acc: 0.9940\n",
      "Epoch 8/50\n",
      " - 0s - loss: 0.0171 - acc: 0.9922 - val_loss: 0.0175 - val_acc: 0.9940\n",
      "Epoch 9/50\n",
      " - 0s - loss: 0.0118 - acc: 0.9974 - val_loss: 0.0171 - val_acc: 0.9880\n",
      "Epoch 10/50\n",
      " - 0s - loss: 0.0098 - acc: 0.9974 - val_loss: 0.0061 - val_acc: 0.9940\n",
      "Epoch 11/50\n",
      " - 0s - loss: 0.0144 - acc: 0.9948 - val_loss: 0.0220 - val_acc: 0.9880\n",
      "Epoch 12/50\n",
      " - 0s - loss: 0.0055 - acc: 1.0000 - val_loss: 0.0056 - val_acc: 1.0000\n",
      "Epoch 13/50\n",
      " - 0s - loss: 0.0181 - acc: 0.9948 - val_loss: 0.1889 - val_acc: 0.9759\n",
      "Epoch 14/50\n",
      " - 0s - loss: 0.0477 - acc: 0.9870 - val_loss: 0.0332 - val_acc: 0.9759\n",
      "Epoch 15/50\n",
      " - 0s - loss: 0.0357 - acc: 0.9896 - val_loss: 0.0576 - val_acc: 0.9819\n",
      "Epoch 16/50\n",
      " - 0s - loss: 0.0176 - acc: 0.9922 - val_loss: 0.0159 - val_acc: 0.9940\n",
      "Epoch 17/50\n",
      " - 0s - loss: 0.0329 - acc: 0.9922 - val_loss: 0.0299 - val_acc: 0.9940\n",
      "Epoch 18/50\n",
      " - 0s - loss: 0.0170 - acc: 0.9974 - val_loss: 0.0295 - val_acc: 0.9940\n",
      "Epoch 19/50\n",
      " - 0s - loss: 0.0130 - acc: 0.9948 - val_loss: 0.0203 - val_acc: 0.9940\n",
      "Epoch 20/50\n",
      " - 0s - loss: 0.0095 - acc: 0.9948 - val_loss: 0.0294 - val_acc: 0.9940\n",
      "Epoch 21/50\n",
      " - 0s - loss: 0.0037 - acc: 1.0000 - val_loss: 0.0219 - val_acc: 0.9940\n",
      "Epoch 22/50\n",
      " - 0s - loss: 0.0042 - acc: 1.0000 - val_loss: 0.0302 - val_acc: 0.9940\n",
      "Epoch 23/50\n",
      " - 0s - loss: 0.0038 - acc: 1.0000 - val_loss: 0.0212 - val_acc: 0.9940\n",
      "Epoch 24/50\n",
      " - 0s - loss: 0.0043 - acc: 0.9974 - val_loss: 0.0280 - val_acc: 0.9940\n",
      "Epoch 25/50\n",
      " - 0s - loss: 0.0054 - acc: 0.9974 - val_loss: 0.0197 - val_acc: 0.9940\n",
      "Epoch 26/50\n",
      " - 0s - loss: 0.0048 - acc: 0.9974 - val_loss: 0.0306 - val_acc: 0.9940\n",
      "Epoch 27/50\n",
      " - 0s - loss: 0.0054 - acc: 0.9974 - val_loss: 0.0209 - val_acc: 0.9940\n",
      "Epoch 28/50\n",
      " - 0s - loss: 0.0017 - acc: 1.0000 - val_loss: 0.0108 - val_acc: 0.9940\n",
      "Epoch 29/50\n",
      " - 0s - loss: 0.0039 - acc: 0.9974 - val_loss: 0.0346 - val_acc: 0.9880\n",
      "Epoch 30/50\n",
      " - 0s - loss: 0.0071 - acc: 0.9974 - val_loss: 0.0289 - val_acc: 0.9940\n",
      "Epoch 31/50\n",
      " - 0s - loss: 0.0018 - acc: 1.0000 - val_loss: 0.0055 - val_acc: 0.9940\n",
      "Epoch 32/50\n",
      " - 0s - loss: 0.0065 - acc: 0.9974 - val_loss: 0.0538 - val_acc: 0.9819\n",
      "Epoch 33/50\n",
      " - 0s - loss: 0.0089 - acc: 0.9974 - val_loss: 0.0068 - val_acc: 0.9940\n",
      "Epoch 34/50\n",
      " - 0s - loss: 0.0123 - acc: 0.9948 - val_loss: 0.0167 - val_acc: 0.9940\n",
      "Epoch 35/50\n",
      " - 0s - loss: 0.0045 - acc: 0.9974 - val_loss: 0.0581 - val_acc: 0.9819\n",
      "Epoch 36/50\n",
      " - 0s - loss: 0.0026 - acc: 1.0000 - val_loss: 0.0189 - val_acc: 0.9940\n",
      "Epoch 37/50\n",
      " - 0s - loss: 0.0011 - acc: 1.0000 - val_loss: 0.0162 - val_acc: 0.9940\n",
      "Epoch 38/50\n",
      " - 0s - loss: 0.0012 - acc: 1.0000 - val_loss: 0.0193 - val_acc: 0.9940\n",
      "Epoch 39/50\n",
      " - 0s - loss: 8.3538e-04 - acc: 1.0000 - val_loss: 0.0235 - val_acc: 0.9940\n",
      "Epoch 40/50\n",
      " - 0s - loss: 7.0185e-04 - acc: 1.0000 - val_loss: 0.0245 - val_acc: 0.9940\n",
      "Epoch 41/50\n",
      " - 0s - loss: 6.4634e-04 - acc: 1.0000 - val_loss: 0.0242 - val_acc: 0.9940\n",
      "Epoch 42/50\n",
      " - 0s - loss: 5.9099e-04 - acc: 1.0000 - val_loss: 0.0240 - val_acc: 0.9940\n",
      "Epoch 43/50\n",
      " - 0s - loss: 5.5859e-04 - acc: 1.0000 - val_loss: 0.0234 - val_acc: 0.9940\n",
      "Epoch 44/50\n",
      " - 0s - loss: 4.9554e-04 - acc: 1.0000 - val_loss: 0.0237 - val_acc: 0.9940\n",
      "Epoch 45/50\n",
      " - 0s - loss: 4.9339e-04 - acc: 1.0000 - val_loss: 0.0230 - val_acc: 0.9940\n",
      "Epoch 46/50\n",
      " - 0s - loss: 4.6653e-04 - acc: 1.0000 - val_loss: 0.0229 - val_acc: 0.9940\n",
      "Epoch 47/50\n",
      " - 0s - loss: 4.1604e-04 - acc: 1.0000 - val_loss: 0.0231 - val_acc: 0.9940\n",
      "Epoch 48/50\n",
      " - 0s - loss: 4.8798e-04 - acc: 1.0000 - val_loss: 0.0233 - val_acc: 0.9940\n",
      "Epoch 49/50\n",
      " - 0s - loss: 3.8157e-04 - acc: 1.0000 - val_loss: 0.0233 - val_acc: 0.9940\n",
      "Epoch 50/50\n",
      " - 0s - loss: 3.6144e-04 - acc: 1.0000 - val_loss: 0.0228 - val_acc: 0.9940\n"
     ]
    }
   ],
   "source": [
    "hist = model.fit(X_train,y_train,validation_data=[X_test,y_test],callbacks=[history],epochs=50,verbose=2)"
   ]
  },
  {
   "cell_type": "code",
   "execution_count": 20,
   "metadata": {},
   "outputs": [],
   "source": [
    "from ann_visualizer.visualize import ann_viz\n",
    "\n",
    "ann_viz(model, title='ANN')"
   ]
  },
  {
   "cell_type": "code",
   "execution_count": 58,
   "metadata": {},
   "outputs": [
    {
     "data": {
      "image/png": "[encoded data removed]",
      "text/plain": [
       "<Figure size 432x288 with 1 Axes>"
      ]
     },
     "metadata": {
      "needs_background": "light"
     },
     "output_type": "display_data"
    }
   ],
   "source": [
    "history.loss_plot('epoch')"
   ]
  },
  {
   "cell_type": "markdown",
   "metadata": {},
   "source": [
    "### Random Forest"
   ]
  },
  {
   "cell_type": "code",
   "execution_count": 10,
   "metadata": {},
   "outputs": [],
   "source": [
    "X = data\n",
    "y = label"
   ]
  },
  {
   "cell_type": "code",
   "execution_count": 63,
   "metadata": {},
   "outputs": [
    {
     "name": "stdout",
     "output_type": "stream",
     "text": [
      "The best auc on test set is  0.9735196078431374\n"
     ]
    }
   ],
   "source": [
    "all_score = []\n",
    "all_score1 = []\n",
    "all_score2 = []\n",
    "for i in range(50):\n",
    "    skf = StratifiedKFold(n_splits=10,random_state=5,shuffle=True)\n",
    "    clf = RandomForestClassifier(max_depth=1, n_estimators=i+1)\n",
    "    score1 = []\n",
    "    score2 = []\n",
    "    Sensitivity = []\n",
    "    Specificity = []\n",
    "    auc = []\n",
    "    A = []\n",
    "    for train, test in skf.split(X,y):\n",
    "        X_train,X_test=X.iloc[train],X.iloc[test]\n",
    "        y_train,y_test=y.iloc[train],y.iloc[test]\n",
    "        clf.fit(X_train, y_train)\n",
    "\n",
    "        y_pred1 = clf.predict(X_train)\n",
    "        accuracy1 = np.mean(y_train==y_pred1)\n",
    "        score1.append(accuracy1)\n",
    "\n",
    "        y_pred2 = clf.predict(X_test)\n",
    "        accuracy2 = np.mean(y_test==y_pred2)\n",
    "        score2.append(accuracy2)\n",
    "        confusion = metrics.confusion_matrix(y_test, y_pred2)\n",
    "        auc_ = metrics.roc_auc_score(y_test, y_pred2)\n",
    "        TP = confusion[1, 1]\n",
    "        TN = confusion[0, 0]\n",
    "        FP = confusion[0, 1]\n",
    "        FN = confusion[1, 0]\n",
    "        TPR = TP/(TP+FN)\n",
    "        TNR = TN/(TN+FP)\n",
    "        Sensitivity.append(TPR)\n",
    "        Specificity.append(TNR)\n",
    "        auc.append(auc_)\n",
    "    score1 = np.array(score1)\n",
    "    score2 = np.array(score2)\n",
    "    Sensitivity = np.array(Sensitivity)\n",
    "    Specificity = np.array(Specificity)\n",
    "    auc = np.mean(np.array(auc))\n",
    "    score1 = np.mean(score1)\n",
    "    score2 = np.mean(score2)\n",
    "    all_score.append(auc)\n",
    "    all_score1.append(score1)\n",
    "    all_score2.append(score2)\n",
    "print('The best auc on test set is ', np.max(all_score))"
   ]
  },
  {
   "cell_type": "code",
   "execution_count": 64,
   "metadata": {},
   "outputs": [
    {
     "data": {
      "image/png": "[encoded data removed]",
      "text/plain": [
       "<Figure size 432x288 with 1 Axes>"
      ]
     },
     "metadata": {
      "needs_background": "light"
     },
     "output_type": "display_data"
    }
   ],
   "source": [
    "plt.figure()\n",
    "plt.plot(all_score1, label='Training accuracy')\n",
    "plt.plot(all_score2, label='Test accuaccy')\n",
    "plt.xlabel(\"n_estimator of RandomForest\")\n",
    "plt.ylabel('accuracy')\n",
    "plt.legend()\n",
    "plt.show()"
   ]
  },
  {
   "cell_type": "markdown",
   "metadata": {},
   "source": [
    "# SVM"
   ]
  },
  {
   "cell_type": "code",
   "execution_count": 65,
   "metadata": {},
   "outputs": [
    {
     "name": "stdout",
     "output_type": "stream",
     "text": [
      "The accuracy on trainging set is: 0.9951596594883736 The accuracy on test set is: 0.9944781144781146\n",
      "The Sensitivity is: 0.9960000000000001 The Specificity is 0.975\n",
      "auc is: 0.9855\n"
     ]
    }
   ],
   "source": [
    "skf = StratifiedKFold(n_splits=10,random_state=5,shuffle=True)\n",
    "clf = SVC(gamma='auto')\n",
    "score1 = []\n",
    "score2 = []\n",
    "Sensitivity = []\n",
    "Specificity = []\n",
    "auc = []\n",
    "A = []\n",
    "for train, test in skf.split(X,y):\n",
    "    X_train,X_test=X.iloc[train],X.iloc[test]\n",
    "    y_train,y_test=y.iloc[train],y.iloc[test]\n",
    "    clf.fit(X_train, y_train)\n",
    "    \n",
    "    y_pred1 = clf.predict(X_train)\n",
    "    accuracy1 = np.mean(y_train==y_pred1)\n",
    "    score1.append(accuracy1)\n",
    "    \n",
    "    y_pred2 = clf.predict(X_test)\n",
    "    accuracy2 = np.mean(y_test==y_pred2)\n",
    "    score2.append(accuracy2)\n",
    "    confusion = metrics.confusion_matrix(y_test, y_pred2)\n",
    "    auc_ = metrics.roc_auc_score(y_test, y_pred2)\n",
    "    TP = confusion[1, 1]\n",
    "    TN = confusion[0, 0]\n",
    "    FP = confusion[0, 1]\n",
    "    FN = confusion[1, 0]\n",
    "    TPR = TP/(TP+FN)\n",
    "    TNR = TN/(TN+FP)\n",
    "    Sensitivity.append(TPR)\n",
    "    Specificity.append(TNR)\n",
    "    auc.append(auc_)\n",
    "score1 = np.array(score1)\n",
    "score2 = np.array(score2)\n",
    "Sensitivity = np.array(Sensitivity)\n",
    "Specificity = np.array(Specificity)\n",
    "auc = np.array(auc)\n",
    "print('The accuracy on trainging set is:',np.mean(score1),'The accuracy on test set is:', np.mean(score2))\n",
    "print('The Sensitivity is:', np.mean(Sensitivity), 'The Specificity is', np.mean(Specificity))\n",
    "print('auc is:', np.mean(auc))"
   ]
  },
  {
   "cell_type": "markdown",
   "metadata": {},
   "source": [
    "## K  nearest neighbour classifiner"
   ]
  },
  {
   "cell_type": "code",
   "execution_count": 9,
   "metadata": {},
   "outputs": [
    {
     "name": "stdout",
     "output_type": "stream",
     "text": [
      "The best auc on test set is  0.9845\n"
     ]
    }
   ],
   "source": [
    "all_score1 = []\n",
    "all_score2 = []\n",
    "all_score = []\n",
    "for i in range(2,30):\n",
    "    skf = StratifiedKFold(n_splits=10,random_state=5,shuffle=True)\n",
    "    clf = KNeighborsClassifier(n_neighbors=i)\n",
    "    score1 = []\n",
    "    score2 = []\n",
    "    Sensitivity = []\n",
    "    Specificity = []\n",
    "    auc = []\n",
    "    A = []\n",
    "    for train, test in skf.split(X,y):\n",
    "        X_train,X_test=X.iloc[train],X.iloc[test]\n",
    "        y_train,y_test=y.iloc[train],y.iloc[test]\n",
    "        clf.fit(X_train, y_train)\n",
    "\n",
    "        y_pred1 = clf.predict(X_train)\n",
    "        accuracy1 = np.mean(y_train==y_pred1)\n",
    "        score1.append(accuracy1)\n",
    "\n",
    "        y_pred2 = clf.predict(X_test)\n",
    "        accuracy2 = np.mean(y_test==y_pred2)\n",
    "        score2.append(accuracy2)\n",
    "        confusion = metrics.confusion_matrix(y_test, y_pred2)\n",
    "        auc_ = metrics.roc_auc_score(y_test, y_pred2)\n",
    "        TP = confusion[1, 1]\n",
    "        TN = confusion[0, 0]\n",
    "        FP = confusion[0, 1]\n",
    "        FN = confusion[1, 0]\n",
    "        TPR = TP/(TP+FN)\n",
    "        TNR = TN/(TN+FP)\n",
    "        Sensitivity.append(TPR)\n",
    "        Specificity.append(TNR)\n",
    "        auc.append(auc_)\n",
    "    score1 = np.array(score1)\n",
    "    score2 = np.array(score2)\n",
    "    Sensitivity = np.array(Sensitivity)\n",
    "    Specificity = np.array(Specificity)\n",
    "    auc = np.mean(np.array(auc))\n",
    "    score1 = np.mean(score1)\n",
    "    score2 = np.mean(score2)\n",
    "    all_score.append(auc)\n",
    "    all_score1.append(score1)\n",
    "    all_score2.append(score2)\n",
    "print('The best auc on test set is ', np.max(all_score))"
   ]
  },
  {
   "cell_type": "code",
   "execution_count": 10,
   "metadata": {},
   "outputs": [
    {
     "data": {
      "image/png": "[encoded data removed]",
      "text/plain": [
       "<Figure size 432x288 with 1 Axes>"
      ]
     },
     "metadata": {
      "needs_background": "light"
     },
     "output_type": "display_data"
    }
   ],
   "source": [
    "plt.figure()\n",
    "plt.plot(all_score1, label='Training accuracy')\n",
    "plt.plot(all_score2, label='Test accuaccy')\n",
    "plt.xlabel(\"K\")\n",
    "plt.ylabel('accuracy')\n",
    "plt.legend()\n",
    "plt.show()"
   ]
  },
  {
   "cell_type": "code",
   "execution_count": null,
   "metadata": {},
   "outputs": [],
   "source": []
  }
 ],
 "metadata": {
  "kernelspec": {
   "display_name": "Python 3",
   "language": "python",
   "name": "python3"
  },
  "language_info": {
   "codemirror_mode": {
    "name": "ipython",
    "version": 3
   },
   "file_extension": ".py",
   "mimetype": "text/x-python",
   "name": "python",
   "nbconvert_exporter": "python",
   "pygments_lexer": "ipython3",
   "version": "3.7.1"
  }
 },
 "nbformat": 4,
 "nbformat_minor": 2
}
